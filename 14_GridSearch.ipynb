{
  "nbformat": 4,
  "nbformat_minor": 0,
  "metadata": {
    "colab": {
      "provenance": [],
      "authorship_tag": "ABX9TyM/Kt9TmnnWihB1gL1Uym0u",
      "include_colab_link": true
    },
    "kernelspec": {
      "name": "python3",
      "display_name": "Python 3"
    },
    "language_info": {
      "name": "python"
    }
  },
  "cells": [
    {
      "cell_type": "markdown",
      "metadata": {
        "id": "view-in-github",
        "colab_type": "text"
      },
      "source": [
        "<a href=\"https://colab.research.google.com/github/Reneress/Mineracao/blob/master/14_GridSearch.ipynb\" target=\"_parent\"><img src=\"https://colab.research.google.com/assets/colab-badge.svg\" alt=\"Open In Colab\"/></a>"
      ]
    },
    {
      "cell_type": "code",
      "source": [
        "import pandas as pd\n",
        "from sklearn.model_selection import GridSearchCV, train_test_split\n",
        "from sklearn.linear_model import LogisticRegression\n",
        "from sklearn.preprocessing import StandardScaler\n",
        "from sklearn.pipeline import Pipeline\n",
        "\n",
        "\n",
        "# Carregar o dataset a partir de um arquivo CSV\n",
        "# Substitua 'seu_arquivo.csv' pelo caminho do seu arquivo CSV\n",
        "df = pd.read_csv('dataAlter.csv')\n",
        "\n",
        "# Supondo que a coluna alvo (label) seja chamada 'target'\n",
        "# Substitua 'target' pelo nome da sua coluna de saída\n",
        "X = df.drop('Target', axis=1)\n",
        "y = df['Target']"
      ],
      "metadata": {
        "id": "jlVT3f6_qLfp"
      },
      "execution_count": 10,
      "outputs": []
    },
    {
      "cell_type": "code",
      "source": [
        "\n",
        "# import warnings filter\n",
        "from warnings import simplefilter\n",
        "# ignore all future warnings\n",
        "simplefilter(action='ignore', category=FutureWarning)"
      ],
      "metadata": {
        "id": "uiaWyUjaqzyq"
      },
      "execution_count": 4,
      "outputs": []
    },
    {
      "cell_type": "code",
      "source": [
        "# Dividir o dataset em conjunto de treino e teste\n",
        "X_train, X_test, y_train, y_test = train_test_split(X, y, test_size=0.3, random_state=42)\n",
        "\n",
        "# Criar um pipeline que inclua a padronização dos dados e o modelo\n",
        "pipeline = Pipeline([\n",
        "    ('scaler', StandardScaler()),\n",
        "    ('logreg', LogisticRegression(max_iter=500))  # Aumentar max_iter\n",
        "])\n",
        "\n",
        "# Definir os hiperparâmetros para serem avaliados\n",
        "param_grid = {\n",
        "    'logreg__C': [0.1, 1, 10, 100],\n",
        "    'logreg__solver': ['lbfgs', 'liblinear']\n",
        "}"
      ],
      "metadata": {
        "id": "7puYYH0gqeEP"
      },
      "execution_count": 11,
      "outputs": []
    },
    {
      "cell_type": "code",
      "execution_count": 12,
      "metadata": {
        "colab": {
          "base_uri": "https://localhost:8080/"
        },
        "id": "gihq_l1ZqHqI",
        "outputId": "aafbe185-be69-4a9e-e813-f67f4e7b31f5"
      },
      "outputs": [
        {
          "output_type": "stream",
          "name": "stdout",
          "text": [
            "Melhores hiperparâmetros: {'logreg__C': 0.1, 'logreg__solver': 'lbfgs'}\n",
            "Melhor pontuação: 0.7664787117619469\n",
            "Acurácia no conjunto de teste: 0.7567771084337349\n"
          ]
        }
      ],
      "source": [
        "\n",
        "# Configurar o GridSearchCV\n",
        "grid_search = GridSearchCV(estimator=pipeline, param_grid=param_grid, cv=5, scoring='accuracy')\n",
        "\n",
        "# Executar o GridSearchCV\n",
        "grid_search.fit(X_train, y_train)\n",
        "\n",
        "# Mostrar os melhores hiperparâmetros e a melhor pontuação\n",
        "print(\"Melhores hiperparâmetros:\", grid_search.best_params_)\n",
        "print(\"Melhor pontuação:\", grid_search.best_score_)\n",
        "\n",
        "# Avaliar o modelo no conjunto de teste\n",
        "best_model = grid_search.best_estimator_\n",
        "test_accuracy = best_model.score(X_test, y_test)\n",
        "print(\"Acurácia no conjunto de teste:\", test_accuracy)\n"
      ]
    }
  ]
}