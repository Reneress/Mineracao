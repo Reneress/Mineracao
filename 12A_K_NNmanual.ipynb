{
  "nbformat": 4,
  "nbformat_minor": 0,
  "metadata": {
    "colab": {
      "provenance": [],
      "authorship_tag": "ABX9TyMAPpJCjDZOjEZcPzaszeZo",
      "include_colab_link": true
    },
    "kernelspec": {
      "name": "python3",
      "display_name": "Python 3"
    },
    "language_info": {
      "name": "python"
    }
  },
  "cells": [
    {
      "cell_type": "markdown",
      "metadata": {
        "id": "view-in-github",
        "colab_type": "text"
      },
      "source": [
        "<a href=\"https://colab.research.google.com/github/Reneress/Mineracao/blob/master/12A_K_NNmanual.ipynb\" target=\"_parent\"><img src=\"https://colab.research.google.com/assets/colab-badge.svg\" alt=\"Open In Colab\"/></a>"
      ]
    },
    {
      "cell_type": "code",
      "execution_count": 56,
      "metadata": {
        "id": "a9ucJ_yv9GWy"
      },
      "outputs": [],
      "source": [
        "from math import sqrt\n",
        "\n",
        "# função calculo distancia\n",
        "def distancia_euclideana(vet1, vet2):\n",
        "    distancia = 0\n",
        "    for i in range(len(vet1)-1):\n",
        "        distancia += (vet1[i] - vet2[i])**2\n",
        "    distancia = sqrt(distancia)\n",
        "    return distancia"
      ]
    },
    {
      "cell_type": "code",
      "source": [
        "def retorna_vizinhos(base_treinamento, amostra_teste, num_vizinhos):\n",
        "    distancias = list()\n",
        "    for linha_tre in base_treinamento:\n",
        "        dist = distancia_euclideana(amostra_teste, linha_tre)\n",
        "        distancias.append((linha_tre, dist)) # erro\n",
        "    # ordenação das distancias de forma crescente\n",
        "    distancias.sort(key=lambda tup: tup[1]) # erro\n",
        "    # retorna os vizinhos mais proximos\n",
        "    vizinhos = list()\n",
        "    for i in range(num_vizinhos):\n",
        "        vizinhos.append(distancias[i][0]) # erro\n",
        "    return vizinhos\n",
        ""
      ],
      "metadata": {
        "id": "auzL-J8w-XTh"
      },
      "execution_count": 57,
      "outputs": []
    },
    {
      "cell_type": "code",
      "source": [
        "def classifica(base_treinamento, amostra_teste, num_vizinhos):\n",
        "    vizinhos = retorna_vizinhos(base_treinamento, amostra_teste, num_vizinhos)\n",
        "    rotulos = [v[-1] for v in vizinhos]\n",
        "    predicao = max(set(rotulos), key=rotulos.count)\n",
        "    return predicao"
      ],
      "metadata": {
        "id": "iwci4v5WB5wl"
      },
      "execution_count": 58,
      "outputs": []
    },
    {
      "cell_type": "code",
      "source": [
        "\n",
        "dataset = [[2.7, 2.5, 0],[1.4, 2.3, 0],[3.3, 4.4, 0],[1.3, 1.8, 0],[3.0, 3.0, 0],[7.6, 2.7, 1],[5.3, 2.0, 1],[6.9, 1.7, 1],[8.6,-0.2, 1],[7.6, 3.5, 1]]\n",
        "amostra = [5,7, 0]\n",
        "predicao = classifica(dataset, amostra, 3)\n",
        "print('Resultado da clasificação')\n",
        "print('Esperado %d\\nPredição %d' % (amostra[-1], predicao))\n",
        "\n",
        "\n",
        "# vet1 = [1,2,3]\n",
        "# vet2 = [4,5,6]\n",
        "# print(distancia_euclidiana(vet1,vet2))\n",
        "\n",
        "\n"
      ],
      "metadata": {
        "colab": {
          "base_uri": "https://localhost:8080/"
        },
        "id": "y2j4QhWP9vcS",
        "outputId": "0d3da195-4f75-4473-ab92-bc4e54324287"
      },
      "execution_count": 60,
      "outputs": [
        {
          "output_type": "stream",
          "name": "stdout",
          "text": [
            "Resultado da clasificação\n",
            "Esperado 0\n",
            "Predição 0\n"
          ]
        }
      ]
    }
  ]
}