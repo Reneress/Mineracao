{
  "nbformat": 4,
  "nbformat_minor": 0,
  "metadata": {
    "colab": {
      "provenance": [],
      "authorship_tag": "ABX9TyPxOvggN6sbSN8Wh4lNydYW",
      "include_colab_link": true
    },
    "kernelspec": {
      "name": "python3",
      "display_name": "Python 3"
    },
    "language_info": {
      "name": "python"
    }
  },
  "cells": [
    {
      "cell_type": "markdown",
      "metadata": {
        "id": "view-in-github",
        "colab_type": "text"
      },
      "source": [
        "<a href=\"https://colab.research.google.com/github/Reneress/Mineracao/blob/master/15_NeuralNetwork.ipynb\" target=\"_parent\"><img src=\"https://colab.research.google.com/assets/colab-badge.svg\" alt=\"Open In Colab\"/></a>"
      ]
    },
    {
      "cell_type": "code",
      "execution_count": 8,
      "metadata": {
        "id": "-4sz4wnhumB0"
      },
      "outputs": [],
      "source": [
        "import pandas as pd\n",
        "from sklearn.model_selection import train_test_split\n",
        "from sklearn.preprocessing import StandardScaler\n",
        "from sklearn.metrics import accuracy_score, precision_score, recall_score, f1_score\n",
        "from sklearn.tree import DecisionTreeClassifier\n",
        "from sklearn.neighbors import KNeighborsClassifier\n",
        "from sklearn.svm import SVC\n",
        "from tensorflow.keras.models import Sequential\n",
        "from tensorflow.keras.layers import Dense\n",
        "from tensorflow.keras.utils import to_categorical"
      ]
    },
    {
      "cell_type": "code",
      "source": [
        "# Carregar o dataset a partir de um arquivo CSV\n",
        "# Substitua 'seu_arquivo.csv' pelo caminho do seu arquivo CSV\n",
        "df = pd.read_csv('dataAlter.csv')\n",
        "\n",
        "# Supondo que a coluna alvo (label) seja chamada 'target'\n",
        "# Substitua 'target' pelo nome da sua coluna de saída\n",
        "X = df.drop('Target', axis=1)\n",
        "y = df['Target']"
      ],
      "metadata": {
        "id": "RbUA5ncFuoxB"
      },
      "execution_count": 2,
      "outputs": []
    },
    {
      "cell_type": "code",
      "source": [
        "\n",
        "# Dividir o dataset em conjunto de treino e teste\n",
        "X_train, X_test, y_train, y_test = train_test_split(X, y, test_size=0.3, random_state=42)\n",
        "\n",
        "# Normalizar os dados\n",
        "scaler = StandardScaler()\n",
        "X_train_scaled = scaler.fit_transform(X_train)\n",
        "X_test_scaled = scaler.transform(X_test)"
      ],
      "metadata": {
        "id": "dkxIPLUyuvZb"
      },
      "execution_count": 3,
      "outputs": []
    },
    {
      "cell_type": "code",
      "source": [
        "# Converter as labels para uma representação categórica (se necessário)\n",
        "num_classes = len(y.unique())\n",
        "y_train_categorical = to_categorical(y_train, num_classes)\n",
        "y_test_categorical = to_categorical(y_test, num_classes)\n",
        "\n",
        "# Definir a arquitetura da rede neural\n",
        "model = Sequential()\n",
        "model.add(Dense(64, input_dim=X_train_scaled.shape[1], activation='relu'))\n",
        "model.add(Dense(32, activation='relu'))\n",
        "model.add(Dense(num_classes, activation='softmax'))"
      ],
      "metadata": {
        "id": "__ZnIi_NuyhG"
      },
      "execution_count": 6,
      "outputs": []
    },
    {
      "cell_type": "code",
      "source": [
        "# Compilar o modelo\n",
        "model.compile(optimizer='adam', loss='categorical_crossentropy', metrics=['accuracy'])\n",
        "\n",
        "# Treinar o modelo\n",
        "model.fit(X_train_scaled, y_train_categorical, epochs=50, batch_size=10, verbose=0)\n",
        "\n",
        "# Avaliar o modelo no conjunto de teste\n",
        "y_pred_nn = model.predict(X_test_scaled)\n",
        "y_pred_nn_classes = y_pred_nn.argmax(axis=1)\n",
        "\n",
        "# Treinar e avaliar outros modelos\n",
        "models = {\n",
        "    'Decision Tree': DecisionTreeClassifier(),\n",
        "    'KNN': KNeighborsClassifier(),\n",
        "    'SVM': SVC()\n",
        "}"
      ],
      "metadata": {
        "colab": {
          "base_uri": "https://localhost:8080/"
        },
        "id": "iKbxUh-zu4L-",
        "outputId": "aa1265a5-ec2d-488d-9982-f035bc7e4aa7"
      },
      "execution_count": 9,
      "outputs": [
        {
          "output_type": "stream",
          "name": "stdout",
          "text": [
            "\u001b[1m42/42\u001b[0m \u001b[32m━━━━━━━━━━━━━━━━━━━━\u001b[0m\u001b[37m\u001b[0m \u001b[1m0s\u001b[0m 5ms/step\n"
          ]
        }
      ]
    },
    {
      "cell_type": "code",
      "source": [
        "results = {}\n",
        "\n",
        "for name, clf in models.items():\n",
        "    clf.fit(X_train_scaled, y_train)\n",
        "    y_pred = clf.predict(X_test_scaled)\n",
        "    results[name] = {\n",
        "        'Accuracy': accuracy_score(y_test, y_pred),\n",
        "        'Precision': precision_score(y_test, y_pred, average='weighted'),\n",
        "        'Recall': recall_score(y_test, y_pred, average='weighted'),\n",
        "        'F1 Score': f1_score(y_test, y_pred, average='weighted')\n",
        "    }\n",
        "\n",
        "# Adicionar os resultados da rede neural\n",
        "results['Neural Network'] = {\n",
        "    'Accuracy': accuracy_score(y_test, y_pred_nn_classes),\n",
        "    'Precision': precision_score(y_test, y_pred_nn_classes, average='weighted'),\n",
        "    'Recall': recall_score(y_test, y_pred_nn_classes, average='weighted'),\n",
        "    'F1 Score': f1_score(y_test, y_pred_nn_classes, average='weighted')\n",
        "}"
      ],
      "metadata": {
        "colab": {
          "base_uri": "https://localhost:8080/"
        },
        "id": "20tXaGFNu80O",
        "outputId": "d1656d6c-0b3d-4d3c-8055-66148439e58a"
      },
      "execution_count": 10,
      "outputs": [
        {
          "output_type": "stream",
          "name": "stderr",
          "text": [
            "/usr/local/lib/python3.10/dist-packages/sklearn/metrics/_classification.py:1471: UndefinedMetricWarning: Precision is ill-defined and being set to 0.0 in labels with no predicted samples. Use `zero_division` parameter to control this behavior.\n",
            "  _warn_prf(average, modifier, msg_start, len(result))\n"
          ]
        }
      ]
    },
    {
      "cell_type": "code",
      "source": [
        "# Exibir os resultados\n",
        "for model_name, metrics in results.items():\n",
        "    print(f\"\\n{model_name}:\")\n",
        "    for metric_name, metric_value in metrics.items():\n",
        "        print(f\"  {metric_name}: {metric_value:.4f}\")"
      ],
      "metadata": {
        "colab": {
          "base_uri": "https://localhost:8080/"
        },
        "id": "cTVaj-nsvAEt",
        "outputId": "34c3d771-43e8-451f-de33-01bdc672a98d"
      },
      "execution_count": 11,
      "outputs": [
        {
          "output_type": "stream",
          "name": "stdout",
          "text": [
            "\n",
            "Decision Tree:\n",
            "  Accuracy: 0.6679\n",
            "  Precision: 0.6676\n",
            "  Recall: 0.6679\n",
            "  F1 Score: 0.6677\n",
            "\n",
            "KNN:\n",
            "  Accuracy: 0.6943\n",
            "  Precision: 0.6778\n",
            "  Recall: 0.6943\n",
            "  F1 Score: 0.6807\n",
            "\n",
            "SVM:\n",
            "  Accuracy: 0.7553\n",
            "  Precision: 0.7441\n",
            "  Recall: 0.7553\n",
            "  F1 Score: 0.7379\n",
            "\n",
            "Neural Network:\n",
            "  Accuracy: 0.4812\n",
            "  Precision: 0.3143\n",
            "  Recall: 0.4812\n",
            "  F1 Score: 0.3782\n"
          ]
        }
      ]
    },
    {
      "cell_type": "code",
      "source": [
        "import pandas as pd\n",
        "from sklearn.model_selection import train_test_split\n",
        "from sklearn.preprocessing import StandardScaler\n",
        "from sklearn.metrics import accuracy_score, precision_score, recall_score, f1_score\n",
        "from sklearn.tree import DecisionTreeClassifier\n",
        "from sklearn.neighbors import KNeighborsClassifier\n",
        "from sklearn.svm import SVC\n",
        "from tensorflow.keras.models import Sequential\n",
        "from tensorflow.keras.layers import Dense, Dropout\n",
        "from tensorflow.keras.optimizers import Adam\n",
        "from tensorflow.keras.utils import to_categorical\n",
        "from sklearn.utils import class_weight\n",
        "import matplotlib.pyplot as plt\n",
        "import numpy as np\n",
        "\n",
        "# Carregar o dataset a partir de um arquivo CSV\n",
        "df = pd.read_csv('dataAlter.csv')\n",
        "\n",
        "# Supondo que a coluna alvo (label) seja chamada 'target'\n",
        "X = df.drop('Target', axis=1)\n",
        "y = df['Target']\n",
        "\n",
        "# Dividir o dataset em conjunto de treino e teste\n",
        "X_train, X_test, y_train, y_test = train_test_split(X, y, test_size=0.3, random_state=42)\n",
        "\n",
        "# Normalizar os dados\n",
        "scaler = StandardScaler()\n",
        "X_train_scaled = scaler.fit_transform(X_train)\n",
        "X_test_scaled = scaler.transform(X_test)\n",
        "\n",
        "# Converter as labels para uma representação categórica (se necessário)\n",
        "num_classes = len(y.unique())\n",
        "y_train_categorical = to_categorical(y_train, num_classes)\n",
        "y_test_categorical = to_categorical(y_test, num_classes)\n",
        "\n",
        "# Calcular os pesos das classes\n",
        "class_weights = class_weight.compute_class_weight('balanced', classes=np.unique(y_train), y=y_train)\n",
        "class_weights_dict = dict(enumerate(class_weights))\n",
        "\n",
        "# Definir a arquitetura da rede neural com dropout (Multi-layer Perceptron)\n",
        "model = Sequential()\n",
        "model.add(Dense(128, input_dim=X_train_scaled.shape[1], activation='relu'))\n",
        "model.add(Dropout(0.5))  # Adiciona dropout\n",
        "model.add(Dense(64, activation='relu'))\n",
        "model.add(Dropout(0.5))  # Adiciona dropout\n",
        "model.add(Dense(num_classes, activation='softmax'))\n",
        "\n",
        "# Compilar o modelo com um otimizador diferente\n",
        "model.compile(optimizer=Adam(learning_rate=0.001), loss='categorical_crossentropy', metrics=['accuracy'])\n",
        "\n",
        "# Treinar o modelo e armazenar o histórico, usando pesos de classe\n",
        "history = model.fit(X_train_scaled, y_train_categorical, epochs=100, batch_size=16, verbose=0,\n",
        "                    validation_data=(X_test_scaled, y_test_categorical), class_weight=class_weights_dict)\n",
        "\n",
        "# Avaliar o modelo no conjunto de teste\n",
        "y_pred_nn = model.predict(X_test_scaled)\n",
        "y_pred_nn_classes = y_pred_nn.argmax(axis=1)\n",
        "\n",
        "# Treinar e avaliar outros modelos\n",
        "models = {\n",
        "    'Decision Tree': DecisionTreeClassifier(),\n",
        "    'KNN': KNeighborsClassifier(),\n",
        "    'SVM': SVC(probability=True)  # Ajustado para calcular probabilidades\n",
        "}\n",
        "\n",
        "results = {}\n",
        "\n",
        "for name, clf in models.items():\n",
        "    clf.fit(X_train_scaled, y_train)\n",
        "    y_pred = clf.predict(X_test_scaled)\n",
        "    results[name] = {\n",
        "        'Accuracy': accuracy_score(y_test, y_pred),\n",
        "        'Precision': precision_score(y_test, y_pred, average='weighted'),\n",
        "        'Recall': recall_score(y_test, y_pred, average='weighted'),\n",
        "        'F1 Score': f1_score(y_test, y_pred, average='weighted')\n",
        "    }\n",
        "\n",
        "# Adicionar os resultados da rede neural\n",
        "results['Neural Network'] = {\n",
        "    'Accuracy': accuracy_score(y_test, y_pred_nn_classes),\n",
        "    'Precision': precision_score(y_test, y_pred_nn_classes, average='weighted'),\n",
        "    'Recall': recall_score(y_test, y_pred_nn_classes, average='weighted'),\n",
        "    'F1 Score': f1_score(y_test, y_pred_nn_classes, average='weighted')\n",
        "}\n",
        "\n",
        "# Exibir os resultados\n",
        "for model_name, metrics in results.items():\n",
        "    print(f\"\\n{model_name}:\")\n",
        "    for metric_name, metric_value in metrics.items():\n",
        "        print(f\"  {metric_name}: {metric_value:.4f}\")\n",
        "\n",
        "# Plotar a perda (loss) ao longo das épocas\n",
        "plt.plot(history.history['loss'], label='Treinamento')\n",
        "plt.plot(history.history['val_loss'], label='Validação')\n",
        "plt.title('Perda (Loss) durante o Treinamento')\n",
        "plt.xlabel('Épocas')\n",
        "plt.ylabel('Perda (Loss)')\n",
        "plt.legend()\n",
        "plt.show()\n"
      ],
      "metadata": {
        "colab": {
          "base_uri": "https://localhost:8080/",
          "height": 997
        },
        "id": "30GX1T_BUoYA",
        "outputId": "c98cc567-effe-48b1-c46e-af0a51c7869a"
      },
      "execution_count": 13,
      "outputs": [
        {
          "output_type": "stream",
          "name": "stderr",
          "text": [
            "/usr/local/lib/python3.10/dist-packages/keras/src/layers/core/dense.py:87: UserWarning: Do not pass an `input_shape`/`input_dim` argument to a layer. When using Sequential models, prefer using an `Input(shape)` object as the first layer in the model instead.\n",
            "  super().__init__(activity_regularizer=activity_regularizer, **kwargs)\n"
          ]
        },
        {
          "output_type": "stream",
          "name": "stdout",
          "text": [
            "\u001b[1m42/42\u001b[0m \u001b[32m━━━━━━━━━━━━━━━━━━━━\u001b[0m\u001b[37m\u001b[0m \u001b[1m1s\u001b[0m 16ms/step\n"
          ]
        },
        {
          "output_type": "stream",
          "name": "stderr",
          "text": [
            "/usr/local/lib/python3.10/dist-packages/sklearn/metrics/_classification.py:1471: UndefinedMetricWarning: Precision is ill-defined and being set to 0.0 in labels with no predicted samples. Use `zero_division` parameter to control this behavior.\n",
            "  _warn_prf(average, modifier, msg_start, len(result))\n"
          ]
        },
        {
          "output_type": "stream",
          "name": "stdout",
          "text": [
            "\n",
            "Decision Tree:\n",
            "  Accuracy: 0.6770\n",
            "  Precision: 0.6794\n",
            "  Recall: 0.6770\n",
            "  F1 Score: 0.6780\n",
            "\n",
            "KNN:\n",
            "  Accuracy: 0.6943\n",
            "  Precision: 0.6778\n",
            "  Recall: 0.6943\n",
            "  F1 Score: 0.6807\n",
            "\n",
            "SVM:\n",
            "  Accuracy: 0.7553\n",
            "  Precision: 0.7441\n",
            "  Recall: 0.7553\n",
            "  F1 Score: 0.7379\n",
            "\n",
            "Neural Network:\n",
            "  Accuracy: 0.5173\n",
            "  Precision: 0.3404\n",
            "  Recall: 0.5173\n",
            "  F1 Score: 0.4075\n"
          ]
        },
        {
          "output_type": "display_data",
          "data": {
            "text/plain": [
              "<Figure size 640x480 with 1 Axes>"
            ],
            "image/png": "[encoded data removed]"
          },
          "metadata": {}
        }
      ]
    }
  ]
}